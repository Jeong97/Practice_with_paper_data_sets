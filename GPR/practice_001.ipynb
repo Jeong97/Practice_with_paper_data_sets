{
 "cells": [
  {
   "cell_type": "markdown",
   "metadata": {},
   "source": [
    "## GPR Example"
   ]
  },
  {
   "cell_type": "markdown",
   "metadata": {},
   "source": [
    "### Contents list\n",
    "[1. Data_Preprocessing](#Data_Preprocessing)"
   ]
  },
  {
   "cell_type": "markdown",
   "metadata": {},
   "source": [
    "### Data_Preprocessing"
   ]
  },
  {
   "cell_type": "code",
   "execution_count": null,
   "metadata": {},
   "outputs": [],
   "source": [
    "# import library\n",
    "\n",
    "import os\n",
    "import pandas as pd\n",
    "import numpy as np\n",
    "import matplotlib.pyplot as plt"
   ]
  },
  {
   "cell_type": "code",
   "execution_count": 2,
   "metadata": {},
   "outputs": [],
   "source": [
    "# Graph Font setting\n",
    "def setGraphFont():\n",
    "    import matplotlib.font_manager as fm\n",
    "\n",
    "    # 설치된 폰트 출력\n",
    "    font_list = [font.name for font in fm.fontManager.ttflist]\n",
    "\n",
    "    # default font 설정\n",
    "    plt.rcParams['font.family'] = font_list[np.min([i for i in range(len(font_list)) if 'Times New Roman' in font_list[i]])]  # -12 : Times New Roman, -14 : Nanum gothic\n",
    "    plt.rcParams['font.size'] = 12\n",
    "    plt.rcParams['font.weight'] = 'bold'\n",
    "    plt.rcParams['axes.grid'] = True\n",
    "    plt.rcParams['figure.dpi'] = 100\n",
    "    plt.rcParams['figure.dpi'] = 100\n",
    "    plt.rcParams['lines.linewidth'] = 1.5\n",
    "    plt.rc(\"axes\", unicode_minus=False)\n",
    "\n",
    "    # Configure rcParams axes.prop_cycle to simultaneously cycle cases and colors.\n",
    "    plt.rcParams['axes.prop_cycle'] = plt.cycler(color=plt.cm.tab20.colors)\n",
    "setGraphFont()\n"
   ]
  },
  {
   "cell_type": "code",
   "execution_count": 3,
   "metadata": {},
   "outputs": [
    {
     "name": "stdout",
     "output_type": "stream",
     "text": [
      "  cycle  Cell1_cap  Cell1_dec Cell3_cap         Cell3_dec cycle Cell2_cap  \\\n",
      "0     0     2.6497   0.000000    2.6358                 0     0     2.659   \n",
      "1    25     2.6346   0.569876    2.5945  1.56688671371121   100    2.6236   \n",
      "2    50     2.6209   1.086915    2.6065  1.11161696638592   200    2.6128   \n",
      "3    75     2.5929   2.143639    2.5875   1.8324607329843   300    2.6029   \n",
      "4   100     2.5668   3.128656    2.5643  2.71264891114653   400    2.5978   \n",
      "5   125     2.5476   3.853266    2.5349  3.82805979209349   500    2.5864   \n",
      "6   150     2.5311   4.475978    2.5093  4.79930191972077   600    2.5781   \n",
      "7   175     2.5230   4.781673    2.5068  4.89414978374687   700    2.5661   \n",
      "8   200     2.5033   5.525154     2.494  5.37977084756051   800    2.5771   \n",
      "9   225     2.4815   6.347888    2.4563  6.81007663707413   900    2.5781   \n",
      "\n",
      "          Cell2_dec Cell4_cap         Cell4_dec  \n",
      "0                 0    2.6549                 0  \n",
      "1  1.33132756675441    2.5806  2.79859881728125  \n",
      "2  1.73749529898457    2.5815  2.76469923537609  \n",
      "3  2.10981572019556   2.59205  2.36732080304343  \n",
      "4  2.30161714930425    2.5742  3.03966251082904  \n",
      "5   2.7303497555472    2.5578  3.65738822554523  \n",
      "6  3.04249717939074    2.5771  2.93043052469019  \n",
      "7  3.49379465964648    2.5531  3.83441937549437  \n",
      "8  3.08010530274538    2.5441  4.17341519454594  \n",
      "9  3.04249717939074     2.529  4.74217484651023  \n"
     ]
    }
   ],
   "source": [
    "# Set the DataFrame from raw_data of Capacity\n",
    "\n",
    "# Set Capacity Raw data path\n",
    "cap_path = \"C:/Users/jeongbs1/오토실리콘/1. python_code/Practice_with_paper_data_sets/A comparative study of different features extracted from EIS in SoH for LIB/raw_data(SDI)\"\n",
    "# Load Raw data\n",
    "cap_df = pd.read_csv(cap_path+\"./Cell1-cell4.txt\", skiprows=2, sep='\\t')\n",
    "# Set Columns\n",
    "cap_df_col = [\"cycle\", \"Cell1_cap\", \"Cell1_dec\", \"Cell3_cap\", \"Cell3_dec\", \"cycle\", \"Cell2_cap\", \"Cell2_dec\", \"Cell4_cap\", \"Cell4_dec\"]\n",
    "# Apply colums to DataFrame \n",
    "cap_df.columns = cap_df_col\n",
    "\n",
    "print(cap_df.head(10))"
   ]
  },
  {
   "cell_type": "code",
   "execution_count": null,
   "metadata": {},
   "outputs": [
    {
     "name": "stdout",
     "output_type": "stream",
     "text": [
      "       Frequency    Real_Z  Imaginary_Z\n",
      "0   10000.000000  0.024081     0.027796\n",
      "1    7943.300000  0.023308     0.022386\n",
      "2    6309.600000  0.022444     0.017886\n",
      "3    5011.900000  0.021881     0.014138\n",
      "4    3981.100000  0.021531     0.011007\n",
      "..           ...       ...          ...\n",
      "56      0.025119  0.036309    -0.006454\n",
      "57      0.019953  0.036997    -0.007462\n",
      "58      0.015849  0.037844    -0.008583\n",
      "59      0.012589  0.038858    -0.009839\n",
      "60      0.010000  0.040080    -0.011162\n",
      "\n",
      "[61 rows x 3 columns]\n"
     ]
    },
    {
     "name": "stderr",
     "output_type": "stream",
     "text": [
      "<>:13: SyntaxWarning: invalid escape sequence '\\s'\n",
      "<>:13: SyntaxWarning: invalid escape sequence '\\s'\n",
      "C:\\Users\\jeongbs1\\AppData\\Local\\Temp\\ipykernel_20100\\2622135902.py:13: SyntaxWarning: invalid escape sequence '\\s'\n",
      "  df = pd.read_csv(eis_forder_cell_path+'/'+''.join(eis_forder_cell_list[0])+'/'+''.join(eis_forder_cycle_list[0])+\"/50soc\"+'/'+eis_forder_eis_file, sep='\\s+', header=None,names=eis_raw_col)\n"
     ]
    }
   ],
   "source": [
    "# Set the DataFrame from raw_data of Capacity\n",
    "\n",
    "# Set Capacity Raw data path\n",
    "eis_forder_cell_path = \"C:/Users/jeongbs1/오토실리콘/1. python_code/Practice_with_paper_data_sets/A comparative study of different features extracted from EIS in SoH for LIB/raw_data(SDI)\"\n",
    "eis_forder_cell_list = [forder for forder in os.listdir(eis_forder_cell_path) if os.path.isdir(os.path.join(eis_forder_cell_path, forder))]\n",
    "eis_forder_cycle_list = os.listdir(eis_forder_cell_path+\"/\"+\"\".join(eis_forder_cell_list[0]))\n",
    "eis_forder_eis_list = os.listdir(eis_forder_cell_path+\"/\"+\"\".join(eis_forder_cell_list[0])+\"/\"+\"\".join(eis_forder_cycle_list[0])+\"/50soc\")\n",
    "eis_forder_eis_file = ([file for file in eis_forder_eis_list if \"50soc_25d\" in file][0])\n"
   ]
  },
  {
   "cell_type": "code",
   "execution_count": 41,
   "metadata": {},
   "outputs": [
    {
     "name": "stderr",
     "output_type": "stream",
     "text": [
      "<>:12: SyntaxWarning: invalid escape sequence '\\s'\n",
      "<>:12: SyntaxWarning: invalid escape sequence '\\s'\n",
      "C:\\Users\\jeongbs1\\AppData\\Local\\Temp\\ipykernel_20100\\4247843574.py:12: SyntaxWarning: invalid escape sequence '\\s'\n",
      "  sep='\\s+', header=None,names=eis_raw_col)\n"
     ]
    }
   ],
   "source": [
    "eis_raw_df = {}\n",
    "\n",
    "for cell in range(len(eis_forder_cell_list)):\n",
    "    eis_forder_cycle_list = os.listdir(eis_forder_cell_path+\"/\"+\"\".join(eis_forder_cell_list[cell]))\n",
    "    eis_forder_cycle_list = [forder for forder in eis_forder_cycle_list if \"cycle\" in forder]\n",
    "    for cycle in range(len(eis_forder_cycle_list)):\n",
    "            eis_raw_col = [\"Frequency\", \"Real_Z\", \"Imaginary_Z\"]\n",
    "            eis_forder_eis_list = os.listdir(eis_forder_cell_path+\"/\"+\"\".join(eis_forder_cell_list[cell])+\"/\"+\"\".join(eis_forder_cycle_list[cycle])+\"/50soc\")\n",
    "            eis_forder_eis_file = ([file for file in eis_forder_eis_list if \"50soc_25d\" in file][0])\n",
    "            df_name = (eis_forder_cell_list[cell])+\"_\"+(eis_forder_eis_file.split(\".\")[0])\n",
    "            eis_raw_df[df_name] = pd.read_csv(eis_forder_cell_path+'/'+''.join(eis_forder_cell_list[cell])+'/'+''.join(eis_forder_cycle_list[cycle])+\"/50soc\"+'/'+eis_forder_eis_file, \n",
    "                                sep='\\s+', header=None,names=eis_raw_col)\n",
    "                  "
   ]
  },
  {
   "cell_type": "code",
   "execution_count": 46,
   "metadata": {},
   "outputs": [
    {
     "ename": "KeyError",
     "evalue": "'Cell1'",
     "output_type": "error",
     "traceback": [
      "\u001b[1;31m---------------------------------------------------------------------------\u001b[0m",
      "\u001b[1;31mKeyError\u001b[0m                                  Traceback (most recent call last)",
      "Cell \u001b[1;32mIn[46], line 1\u001b[0m\n\u001b[1;32m----> 1\u001b[0m \u001b[38;5;28mlen\u001b[39m(\u001b[43meis_raw_df\u001b[49m\u001b[43m[\u001b[49m\u001b[43meis_forder_cell_list\u001b[49m\u001b[43m[\u001b[49m\u001b[38;5;241;43m0\u001b[39;49m\u001b[43m]\u001b[49m\u001b[43m]\u001b[49m)\n",
      "\u001b[1;31mKeyError\u001b[0m: 'Cell1'"
     ]
    }
   ],
   "source": [
    "len(eis_raw_df[eis_forder_cell_list[0]])"
   ]
  },
  {
   "cell_type": "code",
   "execution_count": null,
   "metadata": {},
   "outputs": [
    {
     "data": {
      "text/plain": [
       "'Cell4_cycle900_50soc_25d'"
      ]
     },
     "execution_count": 47,
     "metadata": {},
     "output_type": "execute_result"
    }
   ],
   "source": []
  },
  {
   "cell_type": "code",
   "execution_count": null,
   "metadata": {},
   "outputs": [],
   "source": []
  }
 ],
 "metadata": {
  "kernelspec": {
   "display_name": "Python 3",
   "language": "python",
   "name": "python3"
  },
  "language_info": {
   "codemirror_mode": {
    "name": "ipython",
    "version": 3
   },
   "file_extension": ".py",
   "mimetype": "text/x-python",
   "name": "python",
   "nbconvert_exporter": "python",
   "pygments_lexer": "ipython3",
   "version": "3.12.6"
  }
 },
 "nbformat": 4,
 "nbformat_minor": 2
}
