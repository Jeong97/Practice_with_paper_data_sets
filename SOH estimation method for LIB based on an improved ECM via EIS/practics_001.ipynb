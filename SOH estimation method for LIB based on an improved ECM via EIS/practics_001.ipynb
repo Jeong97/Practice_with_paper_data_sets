{
 "cells": [
  {
   "cell_type": "markdown",
   "metadata": {},
   "source": [
    "### EDA\n",
    "- Data set 1 : EIS\n",
    "- Data set 2 : Capacity"
   ]
  },
  {
   "cell_type": "code",
   "execution_count": 1,
   "metadata": {},
   "outputs": [],
   "source": [
    "# import library\n",
    "import os\n",
    "import pandas as pd\n",
    "import numpy as np\n",
    "import matplotlib.pyplot as plt\n",
    "import warnings\n",
    "warnings.simplefilter(\"ignore\")\n"
   ]
  },
  {
   "cell_type": "code",
   "execution_count": 2,
   "metadata": {},
   "outputs": [],
   "source": [
    "# Graph Font setting\n",
    "def setGraphFont():\n",
    "    import matplotlib.font_manager as fm\n",
    "\n",
    "    # 설치된 폰트 출력\n",
    "    font_list = [font.name for font in fm.fontManager.ttflist]\n",
    "\n",
    "    # default font 설정\n",
    "    plt.rcParams['font.family'] = font_list[np.min([i for i in range(len(font_list)) if 'Times New Roman' in font_list[i]])]  # -12 : Times New Roman, -14 : Nanum gothic\n",
    "    plt.rcParams['font.size'] = 12\n",
    "    plt.rcParams['font.weight'] = 'bold'\n",
    "    plt.rcParams['axes.grid'] = True\n",
    "    plt.rcParams['figure.dpi'] = 100\n",
    "    plt.rcParams['figure.dpi'] = 100\n",
    "    plt.rcParams['lines.linewidth'] = 1.5\n",
    "    plt.rc(\"axes\", unicode_minus=False)\n",
    "\n",
    "    # Configure rcParams axes.prop_cycle to simultaneously cycle cases and colors.\n",
    "    plt.rcParams['axes.prop_cycle'] = plt.cycler(color=plt.cm.tab20.colors)\n",
    "setGraphFont()"
   ]
  },
  {
   "cell_type": "code",
   "execution_count": 3,
   "metadata": {},
   "outputs": [],
   "source": [
    "# Split Cycle by Current\n",
    "def Split_Cycle(Current):\n",
    "    n = len(Current)  # assign n to Current index by\n",
    "    Idx = {'SChg': [], 'SDis': [], 'EChg': [], 'EDis': []}  # set Idx as dictionary\n",
    "    for i in np.arange(1, n):\n",
    "        if ((Current[i - 1] == 0) | (Current[i - 1] > 0)) & (Current[i] < 0):\n",
    "            Idx['SDis'].append(i)\n",
    "        if ((Current[i - 1] == 0) | (Current[i - 1] < 0)) & (Current[i] > 0):\n",
    "            Idx['SChg'].append(i)\n",
    "        if (Current[i - 1] < 0) & ((Current[i] == 0) | (Current[i] > 0)):\n",
    "            Idx['EDis'].append(i - 1)\n",
    "        if (Current[i - 1] > 0) & ((Current[i] == 0) | (Current[i] < 0)):\n",
    "            Idx['EChg'].append(i - 1)\n",
    "    return Idx"
   ]
  },
  {
   "cell_type": "code",
   "execution_count": 11,
   "metadata": {},
   "outputs": [],
   "source": [
    "cap_path = os.path.join(\"/Capacity_data\")\n",
    "eis_path = os.path.join(\"/EIS_data\")\n"
   ]
  },
  {
   "cell_type": "code",
   "execution_count": 13,
   "metadata": {},
   "outputs": [
    {
     "data": {
      "text/plain": [
       "['.git',\n",
       " 'practics_001.ipynb',\n",
       " 'SOH estimation method for LIB based on an improved ECM via EIS']"
      ]
     },
     "execution_count": 13,
     "metadata": {},
     "output_type": "execute_result"
    }
   ],
   "source": []
  },
  {
   "cell_type": "code",
   "execution_count": null,
   "metadata": {},
   "outputs": [],
   "source": []
  }
 ],
 "metadata": {
  "kernelspec": {
   "display_name": "Python 3",
   "language": "python",
   "name": "python3"
  },
  "language_info": {
   "codemirror_mode": {
    "name": "ipython",
    "version": 3
   },
   "file_extension": ".py",
   "mimetype": "text/x-python",
   "name": "python",
   "nbconvert_exporter": "python",
   "pygments_lexer": "ipython3",
   "version": "3.12.6"
  }
 },
 "nbformat": 4,
 "nbformat_minor": 2
}
