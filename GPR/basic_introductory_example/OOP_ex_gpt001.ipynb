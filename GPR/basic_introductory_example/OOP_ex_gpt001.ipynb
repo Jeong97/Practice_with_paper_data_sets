{
 "cells": [
  {
   "cell_type": "markdown",
   "metadata": {},
   "source": [
    "### Concenpt of OOP(Object-Oriented Programming)"
   ]
  },
  {
   "cell_type": "markdown",
   "metadata": {},
   "source": [
    "#### Class\n",
    "- Object를 생성하기 위한 설계도\n",
    "- variable(속성)과 methode(행동)이 정의\n",
    "- e.g. person 이라는 class를 만들면 name과 age라는 속성과, greet(인사)라는 method를 가질 수 있음 "
   ]
  },
  {
   "cell_type": "markdown",
   "metadata": {},
   "source": [
    "#### Object\n",
    "- class에서 생성된 실제 object를 의미\n",
    "- object : class의 instance라고 부름\n",
    "- e.g. person class에서 p1=person(\"Alice\", 25) 처럼 object 생성하면 p1 -> class의 intance 즉 object가 됨"
   ]
  },
  {
   "cell_type": "markdown",
   "metadata": {},
   "source": [
    "#### Instance\n",
    "- 특정 Class에서 생선된 개별 object를 의미\n",
    "- person class에서 생성된 p1, p2는 다른 instance\n",
    "- p1.name, p2.name처럼 intance마다 고유의 속성을 가질 수 있음"
   ]
  },
  {
   "cell_type": "markdown",
   "metadata": {},
   "source": [
    "#### Inheritance\n",
    "- Inheritance(상속) : 기존 class의 속성과 메서드를 물려받아 새로운 class를 만드는 방법\n",
    "- e.g. employee 라는 class가 person class를 상속받는다면, person class의 속성과 메서드를 employee class에서도 사용가능"
   ]
  },
  {
   "cell_type": "markdown",
   "metadata": {},
   "source": [
    "#### Polymorphism\n",
    "- Polymorphism(다형성) : 동일한 메서드가 서로 다른 class에서 다르게 동작할 수 있는 특성\n",
    "- e.g. speak()라는 메서드가 Dog 클래스에서는 짖는 행동을, Cat 클래스에서는 야옹하는 행동을 하도록 구현 가능"
   ]
  },
  {
   "cell_type": "markdown",
   "metadata": {},
   "source": [
    "#### Encapsulation\n",
    "- Encapsulation(캡슐화) : object의 속성과 메서드를 외부에서 직접 접근하지 못하도록 보호하는 방법\n",
    "- e.g. class 내부의 속성을 외부에서 직접 변경하지 못하도록 private으로 설정하고, 이를 위한 메서드만 공개 가능"
   ]
  },
  {
   "cell_type": "markdown",
   "metadata": {},
   "source": [
    "### example"
   ]
  },
  {
   "cell_type": "markdown",
   "metadata": {},
   "source": [
    "#### Class and instance\n",
    "- __init__ methode : class의 instance가 생성될 때 자동으로 호출 \n",
    "- self : 해당 class의 intance 자체를 참조 -> self.name = name처럼 self를 사용함으로써, name 속성이 해당 인스턴스에 종속되도록 설정 가능"
   ]
  },
  {
   "cell_type": "code",
   "execution_count": 5,
   "metadata": {},
   "outputs": [
    {
     "name": "stdout",
     "output_type": "stream",
     "text": [
      "Hello, my name is Alice.\n",
      "Hello, my name is Bob.\n"
     ]
    }
   ],
   "source": [
    "class Person:\n",
    "    def __init__(self, name, age):\n",
    "        self.name = name  # 인스턴스 변수\n",
    "        self.age = age    # 인스턴스 변수\n",
    "    \n",
    "    def greet(self):\n",
    "        print(f\"Hello, my name is {self.name}.\")\n",
    "\n",
    "# 인스턴스 생성\n",
    "p1 = Person(\"Alice\", 25)  # p1은 Person 클래스의 인스턴스\n",
    "p2 = Person(\"Bob\", 30)    # p2도 Person 클래스의 인스턴스\n",
    "\n",
    "# 메서드 호출\n",
    "p1.greet()  # \"Hello, my name is Alice.\"\n",
    "p2.greet()  # \"Hello, my name is Bob.\""
   ]
  }
 ],
 "metadata": {
  "kernelspec": {
   "display_name": "Python 3",
   "language": "python",
   "name": "python3"
  },
  "language_info": {
   "codemirror_mode": {
    "name": "ipython",
    "version": 3
   },
   "file_extension": ".py",
   "mimetype": "text/x-python",
   "name": "python",
   "nbconvert_exporter": "python",
   "pygments_lexer": "ipython3",
   "version": "3.12.6"
  }
 },
 "nbformat": 4,
 "nbformat_minor": 2
}
